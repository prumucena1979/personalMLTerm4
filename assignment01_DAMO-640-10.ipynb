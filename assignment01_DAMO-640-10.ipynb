{
 "cells": [
  {
   "cell_type": "code",
   "execution_count": 26,
   "id": "8dde81cb",
   "metadata": {},
   "outputs": [],
   "source": [
    "#pip install pandas numpy scikit-learn matplotlib jupyter"
   ]
  },
  {
   "cell_type": "markdown",
   "id": "70bf2033",
   "metadata": {},
   "source": [
    "# DAMO-640-10 · Fall 2025  \n",
    "## Assignment 1 — Supervised Learning (Haberman's Survival)\n",
    "\n",
    "**Author:** Fabio dos Santos Prumucena - NF1002000 \n",
    "**Dataset:** Haberman's Survival (UCI)  \n",
    "**Deadline:** November 2, 2025, 11:59 PM"
   ]
  },
  {
   "cell_type": "code",
   "execution_count": 27,
   "id": "f44e9596",
   "metadata": {},
   "outputs": [],
   "source": [
    "import pandas as pd\n",
    "import numpy as np\n",
    "import matplotlib.pyplot as plt\n",
    "from sklearn.model_selection import train_test_split, cross_val_score, StratifiedKFold\n",
    "from sklearn.preprocessing import StandardScaler\n",
    "from sklearn.linear_model import LogisticRegression\n",
    "from sklearn.metrics import accuracy_score, precision_score, recall_score, f1_score, roc_curve, roc_auc_score\n",
    "from sklearn.decomposition import PCA\n",
    "from sklearn.tree import DecisionTreeClassifier\n",
    "from sklearn.metrics import (\n",
    "    accuracy_score, precision_score, recall_score, f1_score,\n",
    "    roc_curve, roc_auc_score, classification_report\n",
    ")"
   ]
  },
  {
   "cell_type": "markdown",
   "id": "e1acb189",
   "metadata": {},
   "source": [
    "## Data Loading & EDA"
   ]
  },
  {
   "cell_type": "code",
   "execution_count": 28,
   "id": "7fa999a4",
   "metadata": {},
   "outputs": [],
   "source": [
    "url = \"https://archive.ics.uci.edu/ml/machine-learning-databases/haberman/haberman.data\"\n",
    "cols = [\"age\", \"operation_year\", \"axillary_nodes\", \"survival_status\"]\n",
    "df = pd.read_csv(url, header=None, names=cols)"
   ]
  },
  {
   "cell_type": "code",
   "execution_count": null,
   "id": "6da6d607",
   "metadata": {},
   "outputs": [
    {
     "data": {
      "text/plain": [
       "age                0\n",
       "operation_year     0\n",
       "axillary_nodes     0\n",
       "survival_status    0\n",
       "dtype: int64"
      ]
     },
     "execution_count": 29,
     "metadata": {},
     "output_type": "execute_result"
    }
   ],
   "source": [
    "print(\"First 5 rows of the dataset:\")\n",
    "print(df.head())\n",
    "print(\"\\nDataset statistical summary:\")\n",
    "print(df.describe())\n",
    "print(\"\\nSurvival status distribution:\")\n",
    "print(df['survival_status'].value_counts())\n",
    "print(\"\\nMissing values check:\")\n",
    "print(df.isna().sum())"
   ]
  },
  {
   "cell_type": "code",
   "execution_count": null,
   "id": "56acf15f",
   "metadata": {},
   "outputs": [
    {
     "name": "stdout",
     "output_type": "stream",
     "text": [
      "<class 'pandas.core.frame.DataFrame'>\n",
      "RangeIndex: 306 entries, 0 to 305\n",
      "Data columns (total 4 columns):\n",
      " #   Column           Non-Null Count  Dtype\n",
      "---  ------           --------------  -----\n",
      " 0   age              306 non-null    int64\n",
      " 1   operation_year   306 non-null    int64\n",
      " 2   axillary_nodes   306 non-null    int64\n",
      " 3   survival_status  306 non-null    int64\n",
      "dtypes: int64(4)\n",
      "memory usage: 9.7 KB\n"
     ]
    }
   ],
   "source": [
    "print(\"Dataset information:\")\n",
    "print(df.info())"
   ]
  },
  {
   "cell_type": "markdown",
   "id": "064b6511",
   "metadata": {},
   "source": [
    "### Invalid Years and Nodes"
   ]
  },
  {
   "cell_type": "code",
   "execution_count": null,
   "id": "0dcb0c8e",
   "metadata": {},
   "outputs": [
    {
     "name": "stdout",
     "output_type": "stream",
     "text": [
      "     age  operation_year  axillary_nodes  survival_status\n",
      "0     30              64               1                1\n",
      "1     30              62               3                1\n",
      "2     30              65               0                1\n",
      "3     31              59               2                1\n",
      "4     31              65               4                1\n",
      "..   ...             ...             ...              ...\n",
      "301   75              62               1                1\n",
      "302   76              67               0                1\n",
      "303   77              65               3                1\n",
      "304   78              65               1                2\n",
      "305   83              58               2                2\n",
      "\n",
      "[306 rows x 4 columns]\n",
      "Empty DataFrame\n",
      "Columns: [age, operation_year, axillary_nodes, survival_status]\n",
      "Index: []\n"
     ]
    }
   ],
   "source": [
    "print(\"Records with invalid operation years (outside 1958-1969):\")\n",
    "print(df[~df['operation_year'].between(1958, 1969)])\n",
    "print(\"\\nRecords with negative axillary nodes:\")\n",
    "print(df[df['axillary_nodes'] < 0])"
   ]
  },
  {
   "cell_type": "markdown",
   "id": "2e595665",
   "metadata": {},
   "source": []
  },
  {
   "cell_type": "code",
   "execution_count": null,
   "id": "034ddbb1",
   "metadata": {},
   "outputs": [],
   "source": [
    "# 1️⃣ Convert survival_status to binary\n",
    "# In the original dataset: 1 = survived ≥5 years, 2 = died <5 years\n",
    "df['label'] = df['survival_status'].map({1: 1, 2: 0})\n",
    "print(\"Binary label conversion completed.\")\n",
    "print(\"Label distribution:\")\n",
    "print(df['label'].value_counts().sort_index())"
   ]
  },
  {
   "cell_type": "code",
   "execution_count": null,
   "id": "218e6c87",
   "metadata": {},
   "outputs": [],
   "source": [
    "# 2️⃣ Separate features (X) and label (y)\n",
    "X = df[['age', 'operation_year', 'axillary_nodes']].copy()\n",
    "y = df['label'].copy()\n",
    "print(\"Features (X) and labels (y) separated successfully.\")\n",
    "print(f\"Features shape: {X.shape}\")\n",
    "print(f\"Labels shape: {y.shape}\")"
   ]
  },
  {
   "cell_type": "code",
   "execution_count": null,
   "id": "adf36cd3",
   "metadata": {},
   "outputs": [
    {
     "name": "stdout",
     "output_type": "stream",
     "text": [
      "Treino: (229, 3), Teste: (77, 3)\n"
     ]
    }
   ],
   "source": [
    "# 3️⃣ Split into train and test (75/25)\n",
    "X_train, X_test, y_train, y_test = train_test_split(\n",
    "    X, y, test_size=0.25, stratify=y, random_state=42\n",
    ") \n",
    "print(f\"Train: {X_train.shape}, Test: {X_test.shape}\")"
   ]
  },
  {
   "cell_type": "code",
   "execution_count": null,
   "id": "1e63a8eb",
   "metadata": {},
   "outputs": [],
   "source": [
    "# 4️⃣ Standardize numerical features\n",
    "scaler = StandardScaler()\n",
    "X_train_std = scaler.fit_transform(X_train)\n",
    "X_test_std = scaler.transform(X_test)\n",
    "print(\"Feature standardization completed.\")\n",
    "print(f\"Training set mean: {X_train_std.mean(axis=0).round(4)}\")\n",
    "print(f\"Training set std: {X_train_std.std(axis=0).round(4)}\")"
   ]
  },
  {
   "cell_type": "code",
   "execution_count": null,
   "id": "de1f2638",
   "metadata": {},
   "outputs": [
    {
     "name": "stdout",
     "output_type": "stream",
     "text": [
      "\n",
      "Antes da padronização (exemplo):\n"
     ]
    },
    {
     "data": {
      "text/html": [
       "<div>\n",
       "<style scoped>\n",
       "    .dataframe tbody tr th:only-of-type {\n",
       "        vertical-align: middle;\n",
       "    }\n",
       "\n",
       "    .dataframe tbody tr th {\n",
       "        vertical-align: top;\n",
       "    }\n",
       "\n",
       "    .dataframe thead th {\n",
       "        text-align: right;\n",
       "    }\n",
       "</style>\n",
       "<table border=\"1\" class=\"dataframe\">\n",
       "  <thead>\n",
       "    <tr style=\"text-align: right;\">\n",
       "      <th></th>\n",
       "      <th>age</th>\n",
       "      <th>operation_year</th>\n",
       "      <th>axillary_nodes</th>\n",
       "    </tr>\n",
       "  </thead>\n",
       "  <tbody>\n",
       "    <tr>\n",
       "      <th>15</th>\n",
       "      <td>35</td>\n",
       "      <td>63</td>\n",
       "      <td>0</td>\n",
       "    </tr>\n",
       "    <tr>\n",
       "      <th>207</th>\n",
       "      <td>57</td>\n",
       "      <td>67</td>\n",
       "      <td>0</td>\n",
       "    </tr>\n",
       "    <tr>\n",
       "      <th>14</th>\n",
       "      <td>35</td>\n",
       "      <td>64</td>\n",
       "      <td>13</td>\n",
       "    </tr>\n",
       "    <tr>\n",
       "      <th>126</th>\n",
       "      <td>50</td>\n",
       "      <td>59</td>\n",
       "      <td>0</td>\n",
       "    </tr>\n",
       "    <tr>\n",
       "      <th>86</th>\n",
       "      <td>45</td>\n",
       "      <td>64</td>\n",
       "      <td>0</td>\n",
       "    </tr>\n",
       "  </tbody>\n",
       "</table>\n",
       "</div>"
      ],
      "text/plain": [
       "     age  operation_year  axillary_nodes\n",
       "15    35              63               0\n",
       "207   57              67               0\n",
       "14    35              64              13\n",
       "126   50              59               0\n",
       "86    45              64               0"
      ]
     },
     "metadata": {},
     "output_type": "display_data"
    },
    {
     "name": "stdout",
     "output_type": "stream",
     "text": [
      "\n",
      "Depois da padronização (primeiras 5 linhas):\n",
      "        age  operation_year  axillary_nodes\n",
      "0 -1.642926        0.072022       -0.559195\n",
      "1  0.426339        1.316785       -0.559195\n",
      "2 -1.642926        0.383213        1.129166\n",
      "3 -0.232063       -1.172741       -0.559195\n",
      "4 -0.702351        0.383213       -0.559195\n"
     ]
    }
   ],
   "source": [
    "# Optional: show before/after to check standardization\n",
    "print(\"\\nBefore standardization (example):\")\n",
    "display(X_train.head())\n",
    "\n",
    "print(\"\\nAfter standardization (first 5 rows):\")\n",
    "print(pd.DataFrame(X_train_std, columns=X.columns).head())"
   ]
  },
  {
   "cell_type": "markdown",
   "id": "99b7c5d4",
   "metadata": {},
   "source": [
    "## PCA (Dimensionality Reduction)"
   ]
  },
  {
   "cell_type": "code",
   "execution_count": null,
   "id": "9b15df14",
   "metadata": {},
   "outputs": [],
   "source": [
    "# 1️⃣ Fit PCA on standardized training set\n",
    "pca_probe = PCA().fit(X_train_std)\n",
    "print(\"PCA fitted on standardized training data.\")"
   ]
  },
  {
   "cell_type": "code",
   "execution_count": null,
   "id": "06706d83",
   "metadata": {},
   "outputs": [],
   "source": [
    "# 2️⃣ Calculate cumulative variance\n",
    "cum_var = np.cumsum(pca_probe.explained_variance_ratio_)\n",
    "print(\"Cumulative variance calculated.\")"
   ]
  },
  {
   "cell_type": "code",
   "execution_count": null,
   "id": "e45eee6e",
   "metadata": {},
   "outputs": [
    {
     "name": "stdout",
     "output_type": "stream",
     "text": [
      "Variância explicada por componente: [0.37298962 0.32305988 0.3039505 ]\n",
      "Variância acumulada: [0.37298962 0.6960495  1.        ]\n",
      "--> Número de componentes necessários para >=90% da variância: 3\n"
     ]
    }
   ],
   "source": [
    "# 3️⃣ Determine minimum number of components with >= 90% variance\n",
    "n_components_90 = int(np.argmax(cum_var >= 0.90) + 1)\n",
    "print(\"Explained variance per component:\", pca_probe.explained_variance_ratio_)\n",
    "print(\"Cumulative variance:\", cum_var)\n",
    "print(f\"→ Number of components needed for ≥90% variance: {n_components_90}\")"
   ]
  },
  {
   "cell_type": "code",
   "execution_count": null,
   "id": "f99faf2a",
   "metadata": {},
   "outputs": [
    {
     "data": {
      "image/png": "[encoded data removed]",
      "text/plain": [
       "<Figure size 600x400 with 1 Axes>"
      ]
     },
     "metadata": {},
     "output_type": "display_data"
    }
   ],
   "source": [
    "# 4️⃣ Plot cumulative variance\n",
    "plt.figure(figsize=(6,4))\n",
    "plt.plot(range(1, len(cum_var)+1), cum_var, marker='o')\n",
    "plt.axhline(0.90, color='r', linestyle='--', label='90% threshold')\n",
    "plt.title(\"PCA — Cumulative Explained Variance\")\n",
    "plt.xlabel(\"Number of Components\")\n",
    "plt.ylabel(\"Cumulative Variance\")\n",
    "plt.legend()\n",
    "plt.grid(True)\n",
    "plt.show()"
   ]
  },
  {
   "cell_type": "code",
   "execution_count": null,
   "id": "6cfa800c",
   "metadata": {},
   "outputs": [
    {
     "name": "stdout",
     "output_type": "stream",
     "text": [
      "Forma dos dados transformados:\n",
      "Treino: (229, 3)\n",
      "Teste: (77, 3)\n"
     ]
    }
   ],
   "source": [
    "# 5️⃣ Apply PCA with chosen number of components\n",
    "pca = PCA(n_components=n_components_90, random_state=42)\n",
    "X_train_pca = pca.fit_transform(X_train_std)\n",
    "X_test_pca = pca.transform(X_test_std)\n",
    "\n",
    "print(\"Shape of transformed data:\")\n",
    "print(\"Train:\", X_train_pca.shape)\n",
    "print(\"Test:\", X_test_pca.shape)"
   ]
  },
  {
   "cell_type": "markdown",
   "id": "1cb24f16",
   "metadata": {},
   "source": [
    "## Supervised Learning"
   ]
  },
  {
   "cell_type": "code",
   "execution_count": null,
   "id": "9af3c7c3",
   "metadata": {},
   "outputs": [],
   "source": [
    "cv = StratifiedKFold(n_splits=5, shuffle=True, random_state=42)\n",
    "print(\"Cross-validation strategy initialized: 5-fold stratified with shuffling.\")"
   ]
  },
  {
   "cell_type": "code",
   "execution_count": null,
   "id": "fd1d93b7",
   "metadata": {},
   "outputs": [
    {
     "data": {
      "text/html": [
       "<div>\n",
       "<style scoped>\n",
       "    .dataframe tbody tr th:only-of-type {\n",
       "        vertical-align: middle;\n",
       "    }\n",
       "\n",
       "    .dataframe tbody tr th {\n",
       "        vertical-align: top;\n",
       "    }\n",
       "\n",
       "    .dataframe thead th {\n",
       "        text-align: right;\n",
       "    }\n",
       "</style>\n",
       "<table border=\"1\" class=\"dataframe\">\n",
       "  <thead>\n",
       "    <tr style=\"text-align: right;\">\n",
       "      <th></th>\n",
       "      <th>Model</th>\n",
       "      <th>C</th>\n",
       "      <th>Mean_CV_Accuracy</th>\n",
       "      <th>Std</th>\n",
       "    </tr>\n",
       "  </thead>\n",
       "  <tbody>\n",
       "    <tr>\n",
       "      <th>0</th>\n",
       "      <td>LogisticRegression</td>\n",
       "      <td>0.1</td>\n",
       "      <td>0.720580</td>\n",
       "      <td>0.036931</td>\n",
       "    </tr>\n",
       "    <tr>\n",
       "      <th>1</th>\n",
       "      <td>LogisticRegression</td>\n",
       "      <td>1.0</td>\n",
       "      <td>0.742415</td>\n",
       "      <td>0.024704</td>\n",
       "    </tr>\n",
       "  </tbody>\n",
       "</table>\n",
       "</div>"
      ],
      "text/plain": [
       "                Model    C  Mean_CV_Accuracy       Std\n",
       "0  LogisticRegression  0.1          0.720580  0.036931\n",
       "1  LogisticRegression  1.0          0.742415  0.024704"
      ]
     },
     "metadata": {},
     "output_type": "display_data"
    }
   ],
   "source": [
    "# -------------------------------------------------------------------\n",
    "# 1️⃣ Logistic Regression — test two values of C\n",
    "# -------------------------------------------------------------------\n",
    "print(\"Testing Logistic Regression with different C values...\")\n",
    "lr_results = []\n",
    "for C in [0.1, 1.0]:\n",
    "    lr = LogisticRegression(C=C, random_state=42, max_iter=200)\n",
    "    scores = cross_val_score(lr, X_train_pca, y_train, cv=cv, scoring=\"accuracy\")\n",
    "    lr_results.append({\n",
    "        \"Model\": \"LogisticRegression\",\n",
    "        \"C\": C,\n",
    "        \"Mean_CV_Accuracy\": scores.mean(),\n",
    "        \"Std\": scores.std()\n",
    "    })\n",
    "\n",
    "lr_df = pd.DataFrame(lr_results)\n",
    "print(\"Logistic Regression cross-validation results:\")\n",
    "display(lr_df)"
   ]
  },
  {
   "cell_type": "code",
   "execution_count": null,
   "id": "a2314c14",
   "metadata": {},
   "outputs": [
    {
     "name": "stdout",
     "output_type": "stream",
     "text": [
      " Melhor C para Logistic Regression: 1.0\n"
     ]
    }
   ],
   "source": [
    "# Choose the best C value\n",
    "best_lr_row = lr_df.iloc[lr_df[\"Mean_CV_Accuracy\"].idxmax()]\n",
    "best_lr_C = best_lr_row[\"C\"]\n",
    "print(f\"✅ Best C for Logistic Regression: {best_lr_C}\")"
   ]
  },
  {
   "cell_type": "code",
   "execution_count": null,
   "id": "0cafceaa",
   "metadata": {},
   "outputs": [
    {
     "data": {
      "text/html": [
       "<div>\n",
       "<style scoped>\n",
       "    .dataframe tbody tr th:only-of-type {\n",
       "        vertical-align: middle;\n",
       "    }\n",
       "\n",
       "    .dataframe tbody tr th {\n",
       "        vertical-align: top;\n",
       "    }\n",
       "\n",
       "    .dataframe thead th {\n",
       "        text-align: right;\n",
       "    }\n",
       "</style>\n",
       "<table border=\"1\" class=\"dataframe\">\n",
       "  <thead>\n",
       "    <tr style=\"text-align: right;\">\n",
       "      <th></th>\n",
       "      <th>Model</th>\n",
       "      <th>max_depth</th>\n",
       "      <th>Mean_CV_Accuracy</th>\n",
       "      <th>Std</th>\n",
       "    </tr>\n",
       "  </thead>\n",
       "  <tbody>\n",
       "    <tr>\n",
       "      <th>0</th>\n",
       "      <td>DecisionTree</td>\n",
       "      <td>3</td>\n",
       "      <td>0.707826</td>\n",
       "      <td>0.074974</td>\n",
       "    </tr>\n",
       "    <tr>\n",
       "      <th>1</th>\n",
       "      <td>DecisionTree</td>\n",
       "      <td>None</td>\n",
       "      <td>0.611594</td>\n",
       "      <td>0.069444</td>\n",
       "    </tr>\n",
       "  </tbody>\n",
       "</table>\n",
       "</div>"
      ],
      "text/plain": [
       "          Model max_depth  Mean_CV_Accuracy       Std\n",
       "0  DecisionTree         3          0.707826  0.074974\n",
       "1  DecisionTree      None          0.611594  0.069444"
      ]
     },
     "metadata": {},
     "output_type": "display_data"
    }
   ],
   "source": [
    "# -------------------------------------------------------------------\n",
    "# 2️⃣ Decision Tree — test two values of max_depth\n",
    "# -------------------------------------------------------------------\n",
    "print(\"Testing Decision Tree with different max_depth values...\")\n",
    "dt_results = []\n",
    "for depth in [3, None]:\n",
    "    dt = DecisionTreeClassifier(max_depth=depth, random_state=42)\n",
    "    scores = cross_val_score(dt, X_train_pca, y_train, cv=cv, scoring=\"accuracy\")\n",
    "    dt_results.append({\n",
    "        \"Model\": \"DecisionTree\",\n",
    "        \"max_depth\": \"None\" if depth is None else depth,\n",
    "        \"Mean_CV_Accuracy\": scores.mean(),\n",
    "        \"Std\": scores.std()\n",
    "    })\n",
    "\n",
    "dt_df = pd.DataFrame(dt_results)\n",
    "print(\"Decision Tree cross-validation results:\")\n",
    "display(dt_df)"
   ]
  },
  {
   "cell_type": "code",
   "execution_count": null,
   "id": "9f476f48",
   "metadata": {},
   "outputs": [
    {
     "name": "stdout",
     "output_type": "stream",
     "text": [
      "-> Melhor max_depth para Decision Tree: 3\n"
     ]
    }
   ],
   "source": [
    "# Choose the best max_depth\n",
    "best_dt_row = dt_df.iloc[dt_df[\"Mean_CV_Accuracy\"].idxmax()]\n",
    "best_dt_depth = None if best_dt_row[\"max_depth\"] == \"None\" else int(best_dt_row[\"max_depth\"])\n",
    "print(f\"✅ Best max_depth for Decision Tree: {best_dt_depth}\")"
   ]
  },
  {
   "cell_type": "markdown",
   "id": "11238461",
   "metadata": {},
   "source": [
    "### ROC/AUC Evaluation"
   ]
  },
  {
   "cell_type": "code",
   "execution_count": null,
   "id": "76cbb0b3",
   "metadata": {},
   "outputs": [],
   "source": [
    "# 1) Train with best hyperparameters (from CV)\n",
    "print(\"Training models with optimal hyperparameters...\")\n",
    "\n",
    "best_lr = LogisticRegression(C=best_lr_C, random_state=42, max_iter=200)\n",
    "best_lr.fit(X_train_pca, y_train)\n",
    "lr_proba = best_lr.predict_proba(X_test_pca)[:, 1]\n",
    "lr_pred  = (lr_proba >= 0.5).astype(int)\n",
    "\n",
    "best_dt = DecisionTreeClassifier(max_depth=best_dt_depth, random_state=42)\n",
    "best_dt.fit(X_train_pca, y_train)\n",
    "dt_proba = best_dt.predict_proba(X_test_pca)[:, 1]\n",
    "dt_pred  = (dt_proba >= 0.5).astype(int)\n",
    "\n",
    "print(\"Model training completed.\")"
   ]
  },
  {
   "cell_type": "code",
   "execution_count": null,
   "id": "3796e486",
   "metadata": {},
   "outputs": [
    {
     "data": {
      "text/html": [
       "<div>\n",
       "<style scoped>\n",
       "    .dataframe tbody tr th:only-of-type {\n",
       "        vertical-align: middle;\n",
       "    }\n",
       "\n",
       "    .dataframe tbody tr th {\n",
       "        vertical-align: top;\n",
       "    }\n",
       "\n",
       "    .dataframe thead th {\n",
       "        text-align: right;\n",
       "    }\n",
       "</style>\n",
       "<table border=\"1\" class=\"dataframe\">\n",
       "  <thead>\n",
       "    <tr style=\"text-align: right;\">\n",
       "      <th></th>\n",
       "      <th>model</th>\n",
       "      <th>accuracy</th>\n",
       "      <th>precision</th>\n",
       "      <th>recall</th>\n",
       "      <th>f1</th>\n",
       "      <th>auc</th>\n",
       "    </tr>\n",
       "  </thead>\n",
       "  <tbody>\n",
       "    <tr>\n",
       "      <th>0</th>\n",
       "      <td>LogisticRegression</td>\n",
       "      <td>0.740260</td>\n",
       "      <td>0.746667</td>\n",
       "      <td>0.982456</td>\n",
       "      <td>0.848485</td>\n",
       "      <td>0.742544</td>\n",
       "    </tr>\n",
       "    <tr>\n",
       "      <th>1</th>\n",
       "      <td>DecisionTree</td>\n",
       "      <td>0.701299</td>\n",
       "      <td>0.742857</td>\n",
       "      <td>0.912281</td>\n",
       "      <td>0.818898</td>\n",
       "      <td>0.525877</td>\n",
       "    </tr>\n",
       "  </tbody>\n",
       "</table>\n",
       "</div>"
      ],
      "text/plain": [
       "                model  accuracy  precision    recall        f1       auc\n",
       "0  LogisticRegression  0.740260   0.746667  0.982456  0.848485  0.742544\n",
       "1        DecisionTree  0.701299   0.742857  0.912281  0.818898  0.525877"
      ]
     },
     "metadata": {},
     "output_type": "display_data"
    }
   ],
   "source": [
    "# 2) Utility function for metrics\n",
    "def metrics_dict(y_true, y_pred, y_proba):\n",
    "    return {\n",
    "        \"accuracy\":  accuracy_score(y_true, y_pred),\n",
    "        \"precision\": precision_score(y_true, y_pred, zero_division=0),\n",
    "        \"recall\":    recall_score(y_true, y_pred, zero_division=0),\n",
    "        \"f1\":        f1_score(y_true, y_pred, zero_division=0),\n",
    "        \"auc\":       roc_auc_score(y_true, y_proba),\n",
    "    }\n",
    "\n",
    "lr_metrics = metrics_dict(y_test, lr_pred, lr_proba)\n",
    "dt_metrics = metrics_dict(y_test, dt_pred, dt_proba)\n",
    "\n",
    "# 3) Comparative table\n",
    "metrics_df = pd.DataFrame([\n",
    "    {\"model\": \"LogisticRegression\", **lr_metrics},\n",
    "    {\"model\": \"DecisionTree\",       **dt_metrics},\n",
    "])\n",
    "print(\"Model Performance Comparison:\")\n",
    "display(metrics_df)"
   ]
  },
  {
   "cell_type": "code",
   "execution_count": null,
   "id": "c3fd2894",
   "metadata": {},
   "outputs": [
    {
     "data": {
      "image/png": "[encoded data removed]",
      "text/plain": [
       "<Figure size 640x480 with 1 Axes>"
      ]
     },
     "metadata": {},
     "output_type": "display_data"
    }
   ],
   "source": [
    "# 4) ROC curves on the same plot\n",
    "print(\"Generating ROC curve comparison...\")\n",
    "\n",
    "lr_fpr, lr_tpr, _ = roc_curve(y_test, lr_proba)\n",
    "dt_fpr, dt_tpr, _ = roc_curve(y_test, dt_proba)\n",
    "\n",
    "plt.figure(figsize=(8, 6))\n",
    "plt.plot(lr_fpr, lr_tpr, label=f\"Logistic Regression (AUC={lr_metrics['auc']:.3f})\")\n",
    "plt.plot(dt_fpr, dt_tpr, label=f\"Decision Tree (AUC={dt_metrics['auc']:.3f})\")\n",
    "plt.plot([0, 1], [0, 1], \"--\", color='gray', label='Random Classifier')\n",
    "plt.xlabel(\"False Positive Rate\")\n",
    "plt.ylabel(\"True Positive Rate\")\n",
    "plt.title(\"ROC Curves Comparison — Test Set\")\n",
    "plt.legend(loc=\"lower right\")\n",
    "plt.grid(True, alpha=0.3)\n",
    "plt.show()"
   ]
  },
  {
   "cell_type": "code",
   "execution_count": null,
   "id": "bcd067bd",
   "metadata": {},
   "outputs": [
    {
     "name": "stdout",
     "output_type": "stream",
     "text": [
      "\n",
      "Classification report — Logistic Regression\n",
      "              precision    recall  f1-score   support\n",
      "\n",
      "           0     0.5000    0.0500    0.0909        20\n",
      "           1     0.7467    0.9825    0.8485        57\n",
      "\n",
      "    accuracy                         0.7403        77\n",
      "   macro avg     0.6233    0.5162    0.4697        77\n",
      "weighted avg     0.6826    0.7403    0.6517        77\n",
      "\n",
      "\n",
      "Classification report — Decision Tree\n",
      "              precision    recall  f1-score   support\n",
      "\n",
      "           0     0.2857    0.1000    0.1481        20\n",
      "           1     0.7429    0.9123    0.8189        57\n",
      "\n",
      "    accuracy                         0.7013        77\n",
      "   macro avg     0.5143    0.5061    0.4835        77\n",
      "weighted avg     0.6241    0.7013    0.6447        77\n",
      "\n"
     ]
    }
   ],
   "source": [
    "# 5) Classification reports (details per class)\n",
    "print(\"\\nClassification report — Logistic Regression\")\n",
    "print(classification_report(y_test, lr_pred, digits=4, zero_division=0))\n",
    "\n",
    "print(\"\\nClassification report — Decision Tree\")\n",
    "print(classification_report(y_test, dt_pred, digits=4, zero_division=0))"
   ]
  }
 ],
 "metadata": {
  "kernelspec": {
   "display_name": ".venv",
   "language": "python",
   "name": "python3"
  },
  "language_info": {
   "codemirror_mode": {
    "name": "ipython",
    "version": 3
   },
   "file_extension": ".py",
   "mimetype": "text/x-python",
   "name": "python",
   "nbconvert_exporter": "python",
   "pygments_lexer": "ipython3",
   "version": "3.14.0"
  }
 },
 "nbformat": 4,
 "nbformat_minor": 5
}
