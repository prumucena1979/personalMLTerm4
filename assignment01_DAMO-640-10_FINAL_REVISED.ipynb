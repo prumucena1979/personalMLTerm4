{
 "cells": [
  {
   "cell_type": "markdown",
   "id": "70bf2033",
   "metadata": {},
   "source": [
    "# DAMO-640-10 · Fall 2025  \n",
    "## Assignment 1 — Supervised Learning (Haberman’s Survival Dataset)\n",
    "\n",
    "**Student Name:** Fabio dos Santos Prumucena - NF1002000  \n",
    "**Course:** Advanced Data Analytics (DAMO-640)  \n",
    "**Institution:** University of Niagara Falls Canada  \n",
    "\n",
    "---\n",
    "\n",
    "### Overview\n",
    "This notebook presents the full implementation of a supervised learning pipeline applied to the *Haberman’s Survival Dataset* (Haberman, 1976). The objective is to build, tune, and evaluate predictive models capable of estimating post-surgery survival outcomes in breast cancer patients. The methodology strictly follows the assignment requirements, covering data loading, preprocessing, dimensionality reduction (PCA), hyperparameter tuning via cross-validation, and final model evaluation."
   ]
  },
  {
   "cell_type": "markdown",
   "id": "f14c67f6",
   "metadata": {},
   "source": [
    "## 1. Setup and Imports"
   ]
  },
  {
   "cell_type": "code",
   "execution_count": 1,
   "id": "f44e9596",
   "metadata": {},
   "outputs": [],
   "source": [
    "import pandas as pd\n",
    "import numpy as np\n",
    "import matplotlib.pyplot as plt\n",
    "from sklearn.model_selection import train_test_split, cross_val_score, GridSearchCV\n",
    "from sklearn.preprocessing import StandardScaler\n",
    "from sklearn.linear_model import LogisticRegression\n",
    "from sklearn.tree import DecisionTreeClassifier\n",
    "from sklearn.decomposition import PCA\n",
    "from sklearn.metrics import (\n",
    "    accuracy_score, precision_score, recall_score, f1_score,\n",
    "    roc_curve, roc_auc_score\n",
    ")\n",
    "import warnings\n",
    "warnings.filterwarnings(\"ignore\")\n",
    "\n",
    "# Set a fixed random state for reproducibility\n",
    "RANDOM_STATE = 42"
   ]
  },
  {
   "cell_type": "markdown",
   "id": "e1acb189",
   "metadata": {},
   "source": [
    "## 2. Data Loading and Exploratory Data Analysis (EDA)\n",
    "\n",
    "The dataset is loaded from the UCI repository, and the four columns are assigned descriptive names: `age`, `operation_year`, `axillary_nodes`, and `survival_status`. The initial EDA phase focuses on verifying data integrity, examining feature distributions, and assessing the balance of the target variable."
   ]
  },
  {
   "cell_type": "code",
   "execution_count": 2,
   "id": "8a52c2ea",
   "metadata": {},
   "outputs": [
    {
     "name": "stdout",
     "output_type": "stream",
     "text": [
      "Dataset loaded successfully. Shape: (306, 4)\n",
      "\n",
      "First 5 rows:\n"
     ]
    },
    {
     "data": {
      "text/html": [
       "<div>\n",
       "<style scoped>\n",
       "    .dataframe tbody tr th:only-of-type {\n",
       "        vertical-align: middle;\n",
       "    }\n",
       "\n",
       "    .dataframe tbody tr th {\n",
       "        vertical-align: top;\n",
       "    }\n",
       "\n",
       "    .dataframe thead th {\n",
       "        text-align: right;\n",
       "    }\n",
       "</style>\n",
       "<table border=\"1\" class=\"dataframe\">\n",
       "  <thead>\n",
       "    <tr style=\"text-align: right;\">\n",
       "      <th></th>\n",
       "      <th>age</th>\n",
       "      <th>operation_year</th>\n",
       "      <th>axillary_nodes</th>\n",
       "      <th>survival_status</th>\n",
       "    </tr>\n",
       "  </thead>\n",
       "  <tbody>\n",
       "    <tr>\n",
       "      <th>0</th>\n",
       "      <td>30</td>\n",
       "      <td>64</td>\n",
       "      <td>1</td>\n",
       "      <td>1</td>\n",
       "    </tr>\n",
       "    <tr>\n",
       "      <th>1</th>\n",
       "      <td>30</td>\n",
       "      <td>62</td>\n",
       "      <td>3</td>\n",
       "      <td>1</td>\n",
       "    </tr>\n",
       "    <tr>\n",
       "      <th>2</th>\n",
       "      <td>30</td>\n",
       "      <td>65</td>\n",
       "      <td>0</td>\n",
       "      <td>1</td>\n",
       "    </tr>\n",
       "    <tr>\n",
       "      <th>3</th>\n",
       "      <td>31</td>\n",
       "      <td>59</td>\n",
       "      <td>2</td>\n",
       "      <td>1</td>\n",
       "    </tr>\n",
       "    <tr>\n",
       "      <th>4</th>\n",
       "      <td>31</td>\n",
       "      <td>65</td>\n",
       "      <td>4</td>\n",
       "      <td>1</td>\n",
       "    </tr>\n",
       "  </tbody>\n",
       "</table>\n",
       "</div>"
      ],
      "text/plain": [
       "   age  operation_year  axillary_nodes  survival_status\n",
       "0   30              64               1                1\n",
       "1   30              62               3                1\n",
       "2   30              65               0                1\n",
       "3   31              59               2                1\n",
       "4   31              65               4                1"
      ]
     },
     "metadata": {},
     "output_type": "display_data"
    },
    {
     "name": "stdout",
     "output_type": "stream",
     "text": [
      "\n",
      "Summary Statistics:\n"
     ]
    },
    {
     "data": {
      "text/html": [
       "<div>\n",
       "<style scoped>\n",
       "    .dataframe tbody tr th:only-of-type {\n",
       "        vertical-align: middle;\n",
       "    }\n",
       "\n",
       "    .dataframe tbody tr th {\n",
       "        vertical-align: top;\n",
       "    }\n",
       "\n",
       "    .dataframe thead th {\n",
       "        text-align: right;\n",
       "    }\n",
       "</style>\n",
       "<table border=\"1\" class=\"dataframe\">\n",
       "  <thead>\n",
       "    <tr style=\"text-align: right;\">\n",
       "      <th></th>\n",
       "      <th>age</th>\n",
       "      <th>operation_year</th>\n",
       "      <th>axillary_nodes</th>\n",
       "      <th>survival_status</th>\n",
       "    </tr>\n",
       "  </thead>\n",
       "  <tbody>\n",
       "    <tr>\n",
       "      <th>count</th>\n",
       "      <td>306.000000</td>\n",
       "      <td>306.000000</td>\n",
       "      <td>306.000000</td>\n",
       "      <td>306.000000</td>\n",
       "    </tr>\n",
       "    <tr>\n",
       "      <th>mean</th>\n",
       "      <td>52.457516</td>\n",
       "      <td>62.852941</td>\n",
       "      <td>4.026144</td>\n",
       "      <td>1.264706</td>\n",
       "    </tr>\n",
       "    <tr>\n",
       "      <th>std</th>\n",
       "      <td>10.803452</td>\n",
       "      <td>3.249405</td>\n",
       "      <td>7.189654</td>\n",
       "      <td>0.441899</td>\n",
       "    </tr>\n",
       "    <tr>\n",
       "      <th>min</th>\n",
       "      <td>30.000000</td>\n",
       "      <td>58.000000</td>\n",
       "      <td>0.000000</td>\n",
       "      <td>1.000000</td>\n",
       "    </tr>\n",
       "    <tr>\n",
       "      <th>25%</th>\n",
       "      <td>44.000000</td>\n",
       "      <td>60.000000</td>\n",
       "      <td>0.000000</td>\n",
       "      <td>1.000000</td>\n",
       "    </tr>\n",
       "    <tr>\n",
       "      <th>50%</th>\n",
       "      <td>52.000000</td>\n",
       "      <td>63.000000</td>\n",
       "      <td>1.000000</td>\n",
       "      <td>1.000000</td>\n",
       "    </tr>\n",
       "    <tr>\n",
       "      <th>75%</th>\n",
       "      <td>60.750000</td>\n",
       "      <td>65.750000</td>\n",
       "      <td>4.000000</td>\n",
       "      <td>2.000000</td>\n",
       "    </tr>\n",
       "    <tr>\n",
       "      <th>max</th>\n",
       "      <td>83.000000</td>\n",
       "      <td>69.000000</td>\n",
       "      <td>52.000000</td>\n",
       "      <td>2.000000</td>\n",
       "    </tr>\n",
       "  </tbody>\n",
       "</table>\n",
       "</div>"
      ],
      "text/plain": [
       "              age  operation_year  axillary_nodes  survival_status\n",
       "count  306.000000      306.000000      306.000000       306.000000\n",
       "mean    52.457516       62.852941        4.026144         1.264706\n",
       "std     10.803452        3.249405        7.189654         0.441899\n",
       "min     30.000000       58.000000        0.000000         1.000000\n",
       "25%     44.000000       60.000000        0.000000         1.000000\n",
       "50%     52.000000       63.000000        1.000000         1.000000\n",
       "75%     60.750000       65.750000        4.000000         2.000000\n",
       "max     83.000000       69.000000       52.000000         2.000000"
      ]
     },
     "metadata": {},
     "output_type": "display_data"
    },
    {
     "name": "stdout",
     "output_type": "stream",
     "text": [
      "\n",
      "Missing values per column:\n",
      "age                0\n",
      "operation_year     0\n",
      "axillary_nodes     0\n",
      "survival_status    0\n",
      "dtype: int64\n",
      "\n",
      "Class Distribution (1 = survived ≥ 5 years, 2 = died < 5 years):\n",
      "\n",
      "survival_status\n",
      "1    0.7353\n",
      "2    0.2647\n",
      "Name: proportion, dtype: float64\n",
      "\n",
      "EDA Summary: No missing values detected. Target variable shows a significant class imbalance (73.5%% survived vs. 26.5%% died).\n"
     ]
    }
   ],
   "source": [
    "# Task 1: Data Loading & EDA\n",
    "url = \"https://archive.ics.uci.edu/ml/machine-learning-databases/haberman/haberman.data\"\n",
    "column_names = [\"age\", \"operation_year\", \"axillary_nodes\", \"survival_status\"]\n",
    "\n",
    "# Load the dataset\n",
    "df = pd.read_csv(url, header=None, names=column_names)\n",
    "print(f\"Dataset loaded successfully. Shape: {df.shape}\")\n",
    "\n",
    "# Display first five rows\n",
    "print(\"\\nFirst 5 rows:\")\n",
    "display(df.head())\n",
    "\n",
    "# Display summary statistics\n",
    "print(\"\\nSummary Statistics:\")\n",
    "display(df.describe())\n",
    "\n",
    "# Check for missing or invalid values\n",
    "print(\"\\nMissing values per column:\")\n",
    "print(df.isnull().sum())\n",
    "\n",
    "# Check class distribution\n",
    "class_ratios = df['survival_status'].value_counts(normalize=True).round(4)\n",
    "print(\"\\nClass Distribution (1 = survived \\u2265 5 years, 2 = died < 5 years):\\n\")\n",
    "print(class_ratios)\n",
    "\n",
    "print(\"\\nEDA Summary: No missing values detected. Target variable shows a significant class imbalance (73.5%% survived vs. 26.5%% died).\")"
   ]
  },
  {
   "cell_type": "markdown",
   "id": "22c1b189",
   "metadata": {},
   "source": [
    "## 3. Preprocessing and Data Split\n",
    "\n",
    "This stage prepares the data for model training. The target variable is re-encoded to a binary format ($\\text{Survived}=1, \\text{Died}=0$), and the features are standardized using `StandardScaler` to ensure all variables contribute equally to the model training process. A 75\\% train / 25\\% test split is performed, stratified by the target variable to maintain the class ratio in both subsets."
   ]
  },
  {
   "cell_type": "code",
   "execution_count": 3,
   "id": "c3e4f5a2",
   "metadata": {},
   "outputs": [
    {
     "name": "stdout",
     "output_type": "stream",
     "text": [
      "Data split: Training set size 229, Test set size 77\n",
      "Feature standardization completed. Features are now centered and scaled.\n"
     ]
    }
   ],
   "source": [
    "# Task 2: Preprocessing\n",
    "\n",
    "# 1. Target Encoding: Convert survival_status (1/2) to binary label (1/0)\n",
    "# {1: 1 (Survived), 2: 0 (Died)}\n",
    "df['label'] = df['survival_status'].map({1: 1, 2: 0})\n",
    "\n",
    "# Define features (X) and target (y)\n",
    "X = df[[\"age\", \"operation_year\", \"axillary_nodes\"]]\n",
    "y = df[\"label\"]\n",
    "\n",
    "# 2. Data Split: 75% Train / 25% Test (stratified, random_state=42)\n",
    "X_train, X_test, y_train, y_test = train_test_split(\n",
    "    X, y, test_size=0.25, random_state=RANDOM_STATE, stratify=y\n",
    ")\n",
    "print(f\"Data split: Training set size {X_train.shape[0]}, Test set size {X_test.shape[0]}\")\n",
    "\n",
    "# 3. Feature Standardization: Apply StandardScaler\n",
    "scaler = StandardScaler()\n",
    "X_train_std = scaler.fit_transform(X_train)\n",
    "X_test_std = scaler.transform(X_test)\n",
    "\n",
    "print(\"Feature standardization completed. Features are now centered and scaled.\")"
   ]
  },
  {
   "cell_type": "markdown",
   "id": "99b7c5d4",
   "metadata": {},
   "source": [
    "## 4. Dimensionality Reduction: Principal Component Analysis (PCA)\n",
    "\n",
    "PCA is applied to the standardized training features to reduce dimensionality. The goal is to select the smallest number of principal components (PCs) that collectively explain at least 90\\% of the total variance, thereby creating a more compact feature representation for the subsequent models."
   ]
  },
  {
   "cell_type": "code",
   "execution_count": 4,
   "id": "b7336d24",
   "metadata": {},
   "outputs": [
    {
     "name": "stdout",
     "output_type": "stream",
     "text": [
      "Result: 3 components retain 1.0000 (≥ 90%) of the variance.\n"
     ]
    },
    {
     "data": {
      "image/png": "[encoded data removed]",
      "text/plain": [
       "<Figure size 800x500 with 1 Axes>"
      ]
     },
     "metadata": {},
     "output_type": "display_data"
    },
    {
     "name": "stdout",
     "output_type": "stream",
     "text": [
      "Data successfully transformed to 3 dimensions.\n"
     ]
    }
   ],
   "source": [
    "# Task 3: Dimensionality Reduction\n",
    "\n",
    "# Apply PCA to the standardized training data to find explained variance\n",
    "pca = PCA()\n",
    "pca.fit(X_train_std)\n",
    "\n",
    "# Calculate cumulative explained variance\n",
    "cumulative_variance = np.cumsum(pca.explained_variance_ratio_)\n",
    "\n",
    "# Determine the number of components for >= 90% variance\n",
    "# np.searchsorted finds the index where 0.90 should be inserted to maintain order\n",
    "n_components = np.searchsorted(cumulative_variance, 0.90) + 1\n",
    "retained_variance = cumulative_variance[n_components - 1]\n",
    "\n",
    "print(f\"Result: {n_components} components retain {retained_variance:.4f} (\\u2265 90%) of the variance.\")\n",
    "\n",
    "# Plot cumulative explained variance\n",
    "plt.figure(figsize=(8, 5))\n",
    "plt.plot(range(1, len(cumulative_variance) + 1), cumulative_variance, marker='o', linestyle='--')\n",
    "plt.axhline(y=0.90, color='r', linestyle='-', label='90% Variance Threshold')\n",
    "plt.axvline(x=n_components, color='g', linestyle='--', label=f'{n_components} Components Selected')\n",
    "plt.title('Cumulative Explained Variance vs. Number of Principal Components')\n",
    "plt.xlabel('Number of Components')\n",
    "plt.ylabel('Cumulative Explained Variance')\n",
    "plt.legend()\n",
    "plt.grid(True)\n",
    "plt.show()\n",
    "\n",
    "# Transform data using the selected number of components\n",
    "pca_final = PCA(n_components=n_components, random_state=RANDOM_STATE)\n",
    "X_train_pca = pca_final.fit_transform(X_train_std)\n",
    "X_test_pca = pca_final.transform(X_test_std)\n",
    "\n",
    "print(f\"Data successfully transformed to {X_train_pca.shape[1]} dimensions.\")"
   ]
  },
  {
   "cell_type": "markdown",
   "id": "11238461",
   "metadata": {},
   "source": [
    "## 5. Supervised Learning and Hyperparameter Tuning (Cross-Validation)\n",
    "\n",
    "Two classifiers, **Logistic Regression (LR)** and **Decision Tree (DT)**, are trained on the PCA-transformed training data. Hyperparameter tuning is performed using 5-fold cross-validation (CV) on the training set, with accuracy as the scoring metric, to select the optimal model settings as specified by the assignment rubric."
   ]
  },
  {
   "cell_type": "code",
   "execution_count": 5,
   "id": "42a74d84",
   "metadata": {},
   "outputs": [
    {
     "name": "stdout",
     "output_type": "stream",
     "text": [
      "--- Cross-Validation Results ---\n",
      "Logistic Regression Best Params: {'C': 0.1} (Accuracy: 0.7337)\n",
      "Decision Tree Best Params: {'max_depth': 3} (Accuracy: 0.7119)\n",
      "\n",
      "Logistic Regression CV Table:\n"
     ]
    },
    {
     "data": {
      "text/html": [
       "<div>\n",
       "<style scoped>\n",
       "    .dataframe tbody tr th:only-of-type {\n",
       "        vertical-align: middle;\n",
       "    }\n",
       "\n",
       "    .dataframe tbody tr th {\n",
       "        vertical-align: top;\n",
       "    }\n",
       "\n",
       "    .dataframe thead th {\n",
       "        text-align: right;\n",
       "    }\n",
       "</style>\n",
       "<table border=\"1\" class=\"dataframe\">\n",
       "  <thead>\n",
       "    <tr style=\"text-align: right;\">\n",
       "      <th></th>\n",
       "      <th>LR Parameter (C)</th>\n",
       "      <th>Mean CV Accuracy</th>\n",
       "      <th>Std Dev</th>\n",
       "    </tr>\n",
       "  </thead>\n",
       "  <tbody>\n",
       "    <tr>\n",
       "      <th>0</th>\n",
       "      <td>0.1</td>\n",
       "      <td>0.7337</td>\n",
       "      <td>0.0311</td>\n",
       "    </tr>\n",
       "    <tr>\n",
       "      <th>1</th>\n",
       "      <td>1.0</td>\n",
       "      <td>0.7336</td>\n",
       "      <td>0.0347</td>\n",
       "    </tr>\n",
       "  </tbody>\n",
       "</table>\n",
       "</div>"
      ],
      "text/plain": [
       "  LR Parameter (C) Mean CV Accuracy Std Dev\n",
       "0              0.1           0.7337  0.0311\n",
       "1              1.0           0.7336  0.0347"
      ]
     },
     "metadata": {},
     "output_type": "display_data"
    },
    {
     "name": "stdout",
     "output_type": "stream",
     "text": [
      "\n",
      "Decision Tree CV Table:\n"
     ]
    },
    {
     "data": {
      "text/html": [
       "<div>\n",
       "<style scoped>\n",
       "    .dataframe tbody tr th:only-of-type {\n",
       "        vertical-align: middle;\n",
       "    }\n",
       "\n",
       "    .dataframe tbody tr th {\n",
       "        vertical-align: top;\n",
       "    }\n",
       "\n",
       "    .dataframe thead th {\n",
       "        text-align: right;\n",
       "    }\n",
       "</style>\n",
       "<table border=\"1\" class=\"dataframe\">\n",
       "  <thead>\n",
       "    <tr style=\"text-align: right;\">\n",
       "      <th></th>\n",
       "      <th>DT Parameter (max_depth)</th>\n",
       "      <th>Mean CV Accuracy</th>\n",
       "      <th>Std Dev</th>\n",
       "    </tr>\n",
       "  </thead>\n",
       "  <tbody>\n",
       "    <tr>\n",
       "      <th>0</th>\n",
       "      <td>3</td>\n",
       "      <td>0.7119</td>\n",
       "      <td>0.0437</td>\n",
       "    </tr>\n",
       "    <tr>\n",
       "      <th>1</th>\n",
       "      <td>None</td>\n",
       "      <td>0.6157</td>\n",
       "      <td>0.0332</td>\n",
       "    </tr>\n",
       "  </tbody>\n",
       "</table>\n",
       "</div>"
      ],
      "text/plain": [
       "  DT Parameter (max_depth) Mean CV Accuracy Std Dev\n",
       "0                        3           0.7119  0.0437\n",
       "1                     None           0.6157  0.0332"
      ]
     },
     "metadata": {},
     "output_type": "display_data"
    }
   ],
   "source": [
    "# Task 4: Supervised Learning and Hyperparameter Tuning\n",
    "\n",
    "# Define models\n",
    "lr_clf = LogisticRegression(random_state=RANDOM_STATE, max_iter=1000)\n",
    "dt_clf = DecisionTreeClassifier(random_state=RANDOM_STATE)\n",
    "\n",
    "# Define hyperparameter grids\n",
    "param_grid_lr = {\"C\": [0.1, 1.0]}\n",
    "param_grid_dt = {\"max_depth\": [3, None]}\n",
    "\n",
    "# Use GridSearchCV for 5-fold cross-validation with accuracy scoring\n",
    "lr_grid = GridSearchCV(lr_clf, param_grid_lr, scoring=\"accuracy\", cv=5)\n",
    "dt_grid = GridSearchCV(dt_clf, param_grid_dt, scoring=\"accuracy\", cv=5)\n",
    "\n",
    "# Fit models on PCA-transformed training data\n",
    "lr_grid.fit(X_train_pca, y_train)\n",
    "dt_grid.fit(X_train_pca, y_train)\n",
    "\n",
    "print(\"--- Cross-Validation Results ---\")\n",
    "print(f\"Logistic Regression Best Params: {lr_grid.best_params_} (Accuracy: {lr_grid.best_score_:.4f})\")\n",
    "print(f\"Decision Tree Best Params: {dt_grid.best_params_} (Accuracy: {dt_grid.best_score_:.4f})\")\n",
    "\n",
    "# Function to display CV results concisely\n",
    "def display_cv_results(grid, model_name, param_key):\n",
    "    results = []\n",
    "    for params, mean, std in zip(grid.cv_results_[\"params\"],\n",
    "                                 grid.cv_results_[\"mean_test_score\"],\n",
    "                                 grid.cv_results_[\"std_test_score\"]):\n",
    "        param_value = params[param_key]\n",
    "        results.append({f'{model_name} Parameter ({param_key})': str(param_value), 'Mean CV Accuracy': f'{mean:.4f}', 'Std Dev': f'{std:.4f}'})\n",
    "    return pd.DataFrame(results)\n",
    "\n",
    "print(\"\\nLogistic Regression CV Table:\")\n",
    "display(display_cv_results(lr_grid, 'LR', 'C'))\n",
    "\n",
    "print(\"\\nDecision Tree CV Table:\")\n",
    "display(display_cv_results(dt_grid, 'DT', 'max_depth'))"
   ]
  },
  {
   "cell_type": "markdown",
   "id": "55c4d5b2",
   "metadata": {},
   "source": [
    "## 6. Model Evaluation and Comparative Analysis\n",
    "\n",
    "The optimally tuned models are evaluated on the independent hold-out test set (Task 5). Performance is assessed using a comprehensive set of metrics, with a focus on the Area Under the Receiver Operating Characteristic (ROC) Curve (AUC) to determine the best model for prediction."
   ]
  },
  {
   "cell_type": "code",
   "execution_count": 6,
   "id": "3796e486",
   "metadata": {},
   "outputs": [
    {
     "name": "stdout",
     "output_type": "stream",
     "text": [
      "Test Set Performance Comparison (Optimal Models):\n"
     ]
    },
    {
     "data": {
      "text/html": [
       "<div>\n",
       "<style scoped>\n",
       "    .dataframe tbody tr th:only-of-type {\n",
       "        vertical-align: middle;\n",
       "    }\n",
       "\n",
       "    .dataframe tbody tr th {\n",
       "        vertical-align: top;\n",
       "    }\n",
       "\n",
       "    .dataframe thead th {\n",
       "        text-align: right;\n",
       "    }\n",
       "</style>\n",
       "<table border=\"1\" class=\"dataframe\">\n",
       "  <thead>\n",
       "    <tr style=\"text-align: right;\">\n",
       "      <th></th>\n",
       "      <th>Accuracy</th>\n",
       "      <th>Precision</th>\n",
       "      <th>Recall</th>\n",
       "      <th>F1-Score</th>\n",
       "      <th>AUC</th>\n",
       "    </tr>\n",
       "    <tr>\n",
       "      <th>Model</th>\n",
       "      <th></th>\n",
       "      <th></th>\n",
       "      <th></th>\n",
       "      <th></th>\n",
       "      <th></th>\n",
       "    </tr>\n",
       "  </thead>\n",
       "  <tbody>\n",
       "    <tr>\n",
       "      <th>Logistic Regression</th>\n",
       "      <td>0.7532</td>\n",
       "      <td>0.7500</td>\n",
       "      <td>1.0000</td>\n",
       "      <td>0.8571</td>\n",
       "      <td>0.7469</td>\n",
       "    </tr>\n",
       "    <tr>\n",
       "      <th>Decision Tree</th>\n",
       "      <td>0.7013</td>\n",
       "      <td>0.7429</td>\n",
       "      <td>0.9123</td>\n",
       "      <td>0.8189</td>\n",
       "      <td>0.5259</td>\n",
       "    </tr>\n",
       "  </tbody>\n",
       "</table>\n",
       "</div>"
      ],
      "text/plain": [
       "                     Accuracy  Precision  Recall  F1-Score     AUC\n",
       "Model                                                             \n",
       "Logistic Regression    0.7532     0.7500  1.0000    0.8571  0.7469\n",
       "Decision Tree          0.7013     0.7429  0.9123    0.8189  0.5259"
      ]
     },
     "metadata": {},
     "output_type": "display_data"
    }
   ],
   "source": [
    "# Task 5: Model Evaluation\n",
    "\n",
    "# Retrain models with optimal hyperparameters (best_estimator_ from GridSearchCV)\n",
    "best_lr = lr_grid.best_estimator_\n",
    "best_dt = dt_grid.best_estimator_\n",
    "\n",
    "# Predict probabilities and classes on the PCA-transformed test set\n",
    "lr_proba = best_lr.predict_proba(X_test_pca)[:, 1]\n",
    "dt_proba = best_dt.predict_proba(X_test_pca)[:, 1]\n",
    "lr_pred = best_lr.predict(X_test_pca)\n",
    "dt_pred = best_dt.predict(X_test_pca)\n",
    "\n",
    "# Utility function for metrics\n",
    "def metrics_dict(y_true, y_pred, y_proba):\n",
    "    return {\n",
    "        \"Accuracy\":  accuracy_score(y_true, y_pred),\n",
    "        \"Precision\": precision_score(y_true, y_pred, zero_division=0),\n",
    "        \"Recall\":    recall_score(y_true, y_pred, zero_division=0),\n",
    "        \"F1-Score\":  f1_score(y_true, y_pred, zero_division=0),\n",
    "        \"AUC\":       roc_auc_score(y_true, y_proba),\n",
    "    }\n",
    "\n",
    "lr_metrics = metrics_dict(y_test, lr_pred, lr_proba)\n",
    "dt_metrics = metrics_dict(y_test, dt_pred, dt_proba)\n",
    "\n",
    "# Comparative table\n",
    "metrics_df = pd.DataFrame([\n",
    "    {\"Model\": \"Logistic Regression\", **lr_metrics},\n",
    "    {\"Model\": \"Decision Tree\",       **dt_metrics},\n",
    "])\n",
    "metrics_df = metrics_df.set_index('Model').round(4)\n",
    "\n",
    "print(\"Test Set Performance Comparison (Optimal Models):\")\n",
    "display(metrics_df)"
   ]
  },
  {
   "cell_type": "code",
   "execution_count": 7,
   "id": "c3fd2894-plot",
   "metadata": {},
   "outputs": [
    {
     "data": {
      "image/png": "[encoded data removed]",
      "text/plain": [
       "<Figure size 800x800 with 1 Axes>"
      ]
     },
     "metadata": {},
     "output_type": "display_data"
    }
   ],
   "source": [
    "# Compute ROC curves\n",
    "lr_fpr, lr_tpr, _ = roc_curve(y_test, lr_proba)\n",
    "dt_fpr, dt_tpr, _ = roc_curve(y_test, dt_proba)\n",
    "\n",
    "# Plot ROC curves\n",
    "plt.figure(figsize=(8, 8))\n",
    "plt.plot(lr_fpr, lr_tpr, label=f'Logistic Regression (AUC = {lr_metrics[\"AUC\"]:.4f})')\n",
    "plt.plot(dt_fpr, dt_tpr, label=f'Decision Tree (AUC = {dt_metrics[\"AUC\"]:.4f})')\n",
    "plt.plot([0, 1], [0, 1], 'k--', label='Random Classifier (AUC = 0.50)')\n",
    "\n",
    "plt.title('Receiver Operating Characteristic (ROC) Curve Comparison')\n",
    "plt.xlabel('False Positive Rate')\n",
    "plt.ylabel('True Positive Rate')\n",
    "plt.legend(loc='lower right')\n",
    "plt.grid(True)\n",
    "plt.show()"
   ]
  },
  {
   "cell_type": "markdown",
   "id": "final_discussion",
   "metadata": {},
   "source": [
    "## 7. Conclusion and Recommendation\n",
    "The comparative analysis indicates that the **Logistic Regression** model is superior for this dataset. With an AUC of $0.743$, the LR model demonstrates good discriminatory power, significantly outperforming the Decision Tree model, which achieved an AUC of $0.526$ (near-random performance). This suggests that the relationship between the principal components and the survival outcome is predominantly linear, which the Decision Tree failed to capture effectively without overfitting. Given its superior performance, robustness, and inherent interpretability as a linear model, **Logistic Regression is the recommended final model** for predicting post-surgery survival outcomes based on the Haberman's Survival Dataset. "
   ]
  }
 ],
 "metadata": {
  "kernelspec": {
   "display_name": ".venv",
   "language": "python",
   "name": "python3"
  },
  "language_info": {
   "codemirror_mode": {
    "name": "ipython",
    "version": 3
   },
   "file_extension": ".py",
   "mimetype": "text/x-python",
   "name": "python",
   "nbconvert_exporter": "python",
   "pygments_lexer": "ipython3",
   "version": "3.14.0"
  }
 },
 "nbformat": 4,
 "nbformat_minor": 5
}
